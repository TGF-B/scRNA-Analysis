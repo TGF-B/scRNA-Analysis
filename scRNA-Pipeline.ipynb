
{
 "cells": [
  {
   "cell_type": "code",
   "execution_count": null,
   "metadata": {},
   "outputs": [],
   "source": [
    "#import the the extracted datas and merge\n",
    "library(Seurat) #preinstalled Seurat 4.4.0 ,SeuratObject 4.1.4\n",
    "library(dplyr)\n",
    "library(Matrix) #Matrix 1.6.1.1\n",
    "CP1<-Read10X(data.dir=\"./CP1\")\n",
    "CP2<-Read10X(data.dir=\"./CP2\")\n",
    "CP3<-Read10X(data.dir=\"./CP3\")\n",
    "Ctrl1<-Read10X(data.dir=\"./Ctrl1\")\n",
    "Ctrl2<-Read10X(data.dir=\"./Ctrl2\")\n",
    "Ctrl3<-Read10X(data.dir=\"./Ctrl3\")\n",
    "\n",
    "Object_CP1<-CreateSeuratObject(counts=CP1,projects='MouseCP1',min.cells=3,min.features=200)\n",
    "Object_CP2<-CreateSeuratObject(counts=CP2,projects='MouseCP2',min.cells=3,min.features=200)\n",
    "Object_CP3<-CreateSeuratObject(counts=CP3,projects='MouseCP3',min.cells=3,min.features=200)\n",
    "Object_CP1[[\"percent_mt\"]]<-PercentageFeatureSet(Object_CP1,pattern=\"^mt-\")\n",
    "Object_CP2[[\"percent_mt\"]]<-PercentageFeatureSet(Object_CP2,pattern=\"^mt-\")\n",
    "Object_CP3[[\"percent_mt\"]]<-PercentageFeatureSet(Object_CP3,pattern=\"^mt-\")\n",
    "\n",
    "Object_Ctrl1<-CreateSeuratObject(counts=Ctrl1,projects='MouseCtrl1',min.cells=3,min.features=200)\n",
    "Object_Ctrl2<-CreateSeuratObject(counts=Ctrl2,projects='MouseCtrl2',min.cells=3,min.features=200)\n",
    "Object_Ctrl3<-CreateSeuratObject(counts=Ctrl3,projects='MouseCtrl3',min.cells=3,min.features=200)\n",
    "Object_Ctrl1[[\"percent_mt\"]]<-PercentageFeatureSet(Object_Ctrl1,pattern=\"^mt-\")\n",
    "Object_Ctrl2[[\"percent_mt\"]]<-PercentageFeatureSet(Object_Ctrl2,pattern=\"^mt-\")\n",
    "Object_Ctrl3[[\"percent_mt\"]]<-PercentageFeatureSet(Object_Ctrl3,pattern=\"^mt-\")"
   ]
  },
  {
   "cell_type": "markdown",
   "metadata": {},
   "source": [
    "**Rename the elements in Orig.ident column as CPX/Ctrl**"
   ]
  },
  {
   "cell_type": "code",
   "execution_count": null,
   "metadata": {},
   "outputs": [],
   "source": [
    "Object_CP1@meta.data <- Object_CP1@meta.data %>%\n",
    " dplyr::mutate(orig.ident = ifelse(orig.ident == \"SeuratProject\", \"CP1\", orig.ident))\n",
    "Object_CP2@meta.data <- Object_CP2@meta.data %>%\n",
    " dplyr::mutate(orig.ident = ifelse(orig.ident == \"SeuratProject\", \"CP2\", orig.ident))\n",
    "Object_CP3@meta.data <- Object_CP3@meta.data %>%\n",
    " dplyr::mutate(orig.ident = ifelse(orig.ident == \"SeuratProject\", \"CP3\", orig.ident))\n",
    "\n",
    "Object_Ctrl1@meta.data <- Object_Ctrl1@meta.data %>%\n",
    " dplyr::mutate(orig.ident = ifelse(orig.ident == \"SeuratProject\", \"Ctrl1\", orig.ident))\n",
    "Object_Ctrl2@meta.data <- Object_Ctrl2@meta.data %>%\n",
    " dplyr::mutate(orig.ident = ifelse(orig.ident == \"SeuratProject\", \"Ctrl2\", orig.ident))\n",
    "Object_Ctrl3@meta.data <- Object_Ctrl3@meta.data %>%\n",
    " dplyr::mutate(orig.ident = ifelse(orig.ident == \"SeuratProject\", \"Ctrl3\", orig.ident))"
   ]
  },
  {
   "cell_type": "markdown",
   "metadata": {},
   "source": [
    "**Refine the data according to your requirements**"
   ]
  },
  {
   "cell_type": "code",
   "execution_count": null,
   "metadata": {},
   "outputs": [],
   "source": [
    "\n",
    "Sub_CP1<-subset(Object_CP1,subset=nFeature_RNA>200&nFeature_RNA<2500&percent_mt<5)\n",
    "Sub_CP2<-subset(Object_CP2,subset=nFeature_RNA>200&nFeature_RNA<2500&percent_mt<5)\n",
    "Sub_CP3<-subset(Object_CP3,subset=nFeature_RNA>200&nFeature_RNA<2500&percent_mt<5)\n",
    "\n",
    "Sub_Ctrl1<-subset(Object_Ctrl1,subset=nFeature_RNA>200&nFeature_RNA<2500&percent_mt<5)\n",
    "Sub_Ctrl2<-subset(Object_Ctrl2,subset=nFeature_RNA>200&nFeature_RNA<2500&percent_mt<5)\n",
    "Sub_Ctrl3<-subset(Object_Ctrl3,subset=nFeature_RNA>200&nFeature_RNA<2500&percent_mt<5)"
   ]
  },
  {
   "cell_type": "markdown",
   "metadata": {},
   "source": [
    "**Merge the repeats into one**"
   ]
  },
  {
   "cell_type": "code",
   "execution_count": null,
   "metadata": {},
   "outputs": [],
   "source": [
    "Merged_CP<- merge(Sub_CP1, y = list(Sub_CP2, Sub_CP3), add.cell.ids = c('CP1', 'CP2', 'CP3'))\n",
    "\n",
    "Merged_Ctrl<- merge(Sub_Ctrl1, y = list(Sub_Ctrl2, Sub_Ctrl3), add.cell.ids = c('Ctrl1', 'Ctrl2', 'Ctrl3'))\n"
   ]
  },
  {
   "cell_type": "code",
   "execution_count": null,
   "metadata": {},
   "outputs": [],
   "source": [
    "#QC\n",
    "plot1 <- FeatureScatter(Merged_CP, feature1 = \"nCount_RNA\", feature2 = \"percent_mt\")\n",
    "plot2 <- FeatureScatter(Merged_CP, feature1 = \"nCount_RNA\", feature2 = \"nFeature_RNA\")\n",
    "plot1 + plot2\n",
    "\n",
    "plot3 <- FeatureScatter(Merged_Ctrl, feature1 = \"nCount_RNA\", feature2 = \"percent_mt\")\n",
    "plot4 <- FeatureScatter(Merged_Ctrl, feature1 = \"nCount_RNA\", feature2 = \"nFeature_RNA\")\n",
    "plot3 + plot4\n"
   ]
  },
  {
   "cell_type": "markdown",
   "metadata": {},
   "source": [
    "**High variable features**"
   ]
  },
  {
   "cell_type": "code",
   "execution_count": null,
   "metadata": {},
   "outputs": [],
   "source": [
    "\n",
    "Merged_CP <- FindVariableFeatures(Merged_CP,selection_method=\"vst\",nfeatures=2000)\n",
    "top30 <- head(VariableFeatures(Merged_CP), 30)\n",
    "plot5 <- VariableFeaturePlot(Merged_CP)\n",
    "plot6 <- LabelPoints(plot = plot5, points = top30, repel = TRUE)\n",
    "plot5 + plot6\n",
    "\n",
    "Merged_Ctrl <- FindVariableFeatures(Merged_Ctrl,selection_method=\"vst\",nfeatures=2000)\n",
    "top20 <- head(VariableFeatures(Merged_Ctrl), 30)\n",
    "plot7 <- VariableFeaturePlot(Merged_Ctrl)\n",
    "plot8 <- LabelPoints(plot = plot7, points = top30, repel = TRUE)\n",
    "plot7 + plot8"
   ]
  },
  {
   "cell_type": "markdown",
   "metadata": {},
   "source": [
    "**Scale the data(ignore the overlap error when occurs)**"
   ]
  },
  {
   "cell_type": "code",
   "execution_count": null,
   "metadata": {},
   "outputs": [],
   "source": [
    "\n",
    "all.genes_CP <- rownames(Merged_CP)\n",
    "Merged_CP <- ScaleData(Merged_CP, features = all.genes_CP)\n",
    "Merged_CP<-RunPCA(Merged_CP,features=VariableFeatures(object = Merged_CP))\n",
    "\n",
    "all.genes_Ctrl <- rownames(Merged_Ctrl)\n",
    "Merged_Ctrl <- ScaleData(Merged_Ctrl, features = all.genes_Ctrl)\n",
    "Merged_Ctrl<-RunPCA(Merged_Ctrl,features=VariableFeatures(object = Merged_Ctrl))"
   ]
  },
  {
   "cell_type": "markdown",
   "metadata": {},
   "source": [
    "**Cluster the cells**"
   ]
  },
  {
   "cell_type": "code",
   "execution_count": null,
   "metadata": {},
   "outputs": [],
   "source": [
    "Merged_CP_Clustering <- FindNeighbors(Merged_CP, dims = 1:13)\n",
    "Merged_CP_Clustered <- FindClusters(Merged_CP_Clustering, resolution = 0.5)\n",
    "\n",
    "Merged_Ctrl_Clustering <- FindNeighbors(Merged_Ctrl, dims = 1:13)\n",
    "Merged_Ctrl_Clustered <- FindClusters(Merged_Ctrl_Clustering, resolution = 0.5)"
   ]
  },
  {
   "cell_type": "markdown",
   "metadata": {},
   "source": [
    "**Query and match to the genesets**"
   ]
  },
  {
   "cell_type": "code",
   "execution_count": null,
   "metadata": {},
   "outputs": [],
   "source": [
    "Merged_CP.markers <- FindAllMarkers(Merged_CP_Clustered, only.pos = TRUE)\n",
    "Merged_CP.markers %>%\n",
    "    group_by(cluster) %>%\n",
    "    dplyr::filter(avg_log2FC > 1)\n",
    "    \n",
    "Merged_Ctrl.markers <- FindAllMarkers(Merged_Ctrl_Clustered, only.pos = TRUE)\n",
    "Merged_Ctrl.markers %>%\n",
    "    group_by(cluster) %>%\n",
    "    dplyr::filter(avg_log2FC > 1)"
   ]
  },
  {
   "cell_type": "markdown",
   "metadata": {},
   "source": [
    "**Annatation**"
   ]
  },
  {
   "cell_type": "code",
   "execution_count": null,
   "metadata": {},
   "outputs": [],
   "source": [
    "library(SingleR)\n",
    "library(celldex)\n",
    "library(pheatmap)\n",
    "\n",
    "#turning Seurat matrix into SingleR matrix\n",
    "SingleR_CP<-GetAssayData(Merged_CP_Clustered,slot=\"data\")\n",
    "SingleR_Ctrl<-GetAssayData(Merged_Ctrl_Clustered,slot=\"data\")\n",
    "#import mouse gene marker library manually(cuz automated failed)\n",
    "MouseRNAseq<-readRDS(\"MouseRNAseqData.rds\") \n",
    "\n",
    "#general match to one dataset\n",
    "Merged_CP_Clustered.match<-SingleR(test=SingleR_CP,ref=MouseRNAseq,labels=MouseRNAseq$label.main)\n",
    "Merged_CP_Clustered.match\n",
    "\n",
    "Merged_Ctrl_Clustered.match<-SingleR(test=SingleR_Ctrl,ref=MouseRNAseq,labels=MouseRNAseq$label.main)\n",
    "Merged_Ctrl_Clustered.match\n",
    "\n",
    "#SingleR table PCA and define the labels\n",
    "table(Merged_CP_Clustered.match$labels,Merged_CP_Clustered$seurat_clusters)\n",
    "\n",
    "table(Merged_CP_Clustered.match$labels,Merged_CP_Clustered$seurat_clusters)\n",
    "\n",
    "Merged_CP_Clustered@meta.data$labels <-Merged_CP_Clustered.match$labels\n",
    "Merged_Ctrl_Clustered@meta.data$labels <-Merged_Ctrl_Clustered.match$labels"
   ]
  },
  {
   "cell_type": "markdown",
   "metadata": {},
   "source": [
    "**Plot the de-dims**"
   ]
  },
  {
   "cell_type": "code",
   "execution_count": null,
   "metadata": {},
   "outputs": [],
   "source": [
    "#PCA\n",
    "plot_CP_PCA<-DimPlot(Merged_CP_Clustered,group.by=c(\"labels\"),reduction=\"pca\")\n",
    "plot_Ctrl_PCA<-DimPlot((Merged_Ctrl_Clustered),group.by=c(\"labels\"),reduction=\"pca\",dims=c(2,1))#dims=c(2,1),rotate the plot because unexplainale data appearance\n",
    "plot_CP_PCA + plot_Ctrl_PCA\n",
    "\n",
    "#TSNE\n",
    "Merged_CP_Clustered_TSNE <- RunTSNE(Merged_CP_Clustered, dims = 1:13)\n",
    "plot_CP_TSNE<-DimPlot(Merged_CP_Clustered_TSNE, group.by=c(\"labels\"),reduction = \"tsne\")\n",
    "\n",
    "Merged_Ctrl_Clustered_TSNE <- RunTSNE(Merged_Ctrl_Clustered, dims = 1:13)\n",
    "plot_Ctrl_TSNE<-DimPlot(Merged_Ctrl_Clustered_TSNE, group.by=c(\"labels\"),reduction = \"tsne\",dims=c(2,1))\n",
    "plot_CP_TSNE + plot_Ctrl_TSNE\n",
    "\n",
    "#UMAP unbale to comply because as_cholmod_sparse not provided by package \"Matrix\")\n",
    "#Merged_CP_Clustered_UMAP <- RunUMAP(Merged_CP_Clustered, dims = 1:13)\n",
    "#plot_CP_UMAP<-DimPlot(Merged_CP_Clustered_UMAP, group.by=c(\"labels\"),reduction = \"umap\")\n",
    "\n",
    "#Merged_Ctrl_Clustered_UMAP <- RunUMAP(Merged_Ctrl_Clustered, dims = 1:13)\n",
    "#plot_Ctrl_UMAP<-DimPlot(Merged_Ctrl_Clustered_UMAP, group.by=c(\"Ctrl\"),reduction = \"tsne\",dims=c(2,1))\n",
    "#plot_CP_UMAP + plot_Ctrl_UMAP"
   ]
  }
 ],
 "metadata": {
  "language_info": {
   "name": "python"
  }
 },
 "nbformat": 4,
 "nbformat_minor": 2
}
